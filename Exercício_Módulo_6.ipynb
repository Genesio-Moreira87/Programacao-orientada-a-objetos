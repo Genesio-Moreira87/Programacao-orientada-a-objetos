{
  "nbformat": 4,
  "nbformat_minor": 0,
  "metadata": {
    "colab": {
      "provenance": [],
      "toc_visible": true,
      "gpuType": "T4"
    },
    "kernelspec": {
      "name": "python3",
      "display_name": "Python 3"
    },
    "accelerator": "GPU"
  },
  "cells": [
    {
      "cell_type": "markdown",
      "metadata": {
        "id": "KJqp9AANOCtf"
      },
      "source": [
        "<img src=\"https://raw.githubusercontent.com/andre-marcos-perez/ebac-course-utils/main/media/logo/newebac_logo_black_half.png\" alt=\"ebac-logo\">\n",
        "\n",
        "---\n",
        "\n",
        "# **Módulo** | Python: Programação Orientada a Objetos\n",
        "Caderno de **Exercícios**<br>\n",
        "Professor [André Perez](https://www.linkedin.com/in/andremarcosperez/)\n",
        "\n",
        "---"
      ]
    },
    {
      "cell_type": "markdown",
      "metadata": {
        "id": "d9jDtUbDOE1-"
      },
      "source": [
        "# **Tópicos**\n",
        "\n",
        "<ol type=\"1\">\n",
        "  <li>Um pouco de teoria;</li>\n",
        "  <li>Classes;</li>\n",
        "  <li>Objetos;</li>\n",
        "  <li>Herança.</li>\n",
        "</ol>"
      ]
    },
    {
      "cell_type": "markdown",
      "metadata": {
        "id": "SmoHgt-lwkpD"
      },
      "source": [
        "---"
      ]
    },
    {
      "cell_type": "markdown",
      "metadata": {
        "id": "GABI6OW8OfQ2"
      },
      "source": [
        "# **Exercícios**"
      ]
    },
    {
      "cell_type": "markdown",
      "metadata": {
        "id": "syVczIAwGO3A"
      },
      "source": [
        "## 0\\. Preparação do ambiente"
      ]
    },
    {
      "cell_type": "markdown",
      "metadata": {
        "id": "2X3TrxdzGO3C"
      },
      "source": [
        "Neste exercício vamos trabalhar com os arquivos de csv e texto definidos abaixo. Execute cada uma das células de código para escrever os arquivos na sua máquina virtual."
      ]
    },
    {
      "cell_type": "markdown",
      "metadata": {
        "id": "u0uFuhRSq_hQ"
      },
      "source": [
        "* **carros.csv**: arquivo csv com informações sobre carros (venda, manutenção, portas, etc.)."
      ]
    },
    {
      "cell_type": "code",
      "metadata": {
        "id": "daMf-xaXqKs2",
        "colab": {
          "base_uri": "https://localhost:8080/"
        },
        "outputId": "f91b057c-2385-4703-8f7c-bf62bb25d45b"
      },
      "source": [
        "%%writefile carros.csv\n",
        "id,valor_venda,valor_manutencao,portas,pessoas,porta_malas\n",
        "1,vhigh,med,2,2,small\n",
        "2,med,vhigh,2,2,small\n",
        "3,low,vhigh,2,2,small\n",
        "4,low,high,2,2,small\n",
        "5,low,high,2,2,small\n",
        "6,low,high,4,4,big\n",
        "7,low,high,4,4,big\n",
        "8,low,med,2,2,small\n",
        "9,low,med,2,2,small\n",
        "10,low,med,2,2,small\n",
        "11,low,med,4,4,big\n",
        "12,low,low,2,2,small\n",
        "13,low,low,4,4,small\n",
        "14,low,low,4,4,med"
      ],
      "execution_count": null,
      "outputs": [
        {
          "output_type": "stream",
          "name": "stdout",
          "text": [
            "Writing carros.csv\n"
          ]
        }
      ]
    },
    {
      "cell_type": "markdown",
      "metadata": {
        "id": "X0Z2PhbCrTz1"
      },
      "source": [
        "* **musica.txt**: arquivo texto com a letra da música Roda Viva do Chico Buarque."
      ]
    },
    {
      "cell_type": "code",
      "metadata": {
        "id": "m7Ge2rggrU73",
        "colab": {
          "base_uri": "https://localhost:8080/"
        },
        "outputId": "46e4b964-7abb-4be2-c1f1-7b530e1fef9a"
      },
      "source": [
        "%%writefile musica.txt\n",
        "Roda Viva\n",
        "Chico Buarque\n",
        "\n",
        "Tem dias que a gente se sente\n",
        "Como quem partiu ou morreu\n",
        "A gente estancou de repente\n",
        "Ou foi o mundo então que cresceu\n",
        "A gente quer ter voz ativa\n",
        "No nosso destino mandar\n",
        "Mas eis que chega a roda viva\n",
        "E carrega o destino pra lá\n",
        "\n",
        "Roda mundo, roda-gigante\n",
        "Roda moinho, roda pião\n",
        "\n",
        "O tempo rodou num instante\n",
        "Nas voltas do meu coração\n",
        "A gente vai contra a corrente\n",
        "Até não poder resistir\n",
        "Na volta do barco é que sente\n",
        "O quanto deixou de cumprir\n",
        "Faz tempo que a gente cultiva\n",
        "A mais linda roseira que há\n",
        "Mas eis que chega a roda viva\n",
        "E carrega a roseira pra lá\n",
        "\n",
        "Roda mundo, roda-gigante\n",
        "Roda moinho, roda pião"
      ],
      "execution_count": null,
      "outputs": [
        {
          "output_type": "stream",
          "name": "stdout",
          "text": [
            "Writing musica.txt\n"
          ]
        }
      ]
    },
    {
      "cell_type": "markdown",
      "metadata": {
        "id": "HV69LMAVGO3J"
      },
      "source": [
        "---"
      ]
    },
    {
      "cell_type": "markdown",
      "metadata": {
        "id": "U4S19ZvHsPcE"
      },
      "source": [
        "## 1\\. Classe para ler arquivos de texto"
      ]
    },
    {
      "cell_type": "markdown",
      "metadata": {
        "id": "HQrKGtoMGjf6"
      },
      "source": [
        "Crie a classe `ArquivoTexto`. Ela deve conter os seguintes atributos:\n",
        "\n",
        "*   `self.arquivo`: Atributo do tipo `str` com o nome do arquivo;\n",
        "*   `self.conteudo`: Atributo do tipo `list` onde cada elemento é uma linha do arquivo;\n",
        "\n",
        "A classe também deve conter o seguinte método:\n",
        "\n",
        "*   `self.extrair_linha`: Método que recebe como parâmetro o número da linha e retorna o seu conteúdo."
      ]
    },
    {
      "cell_type": "code",
      "metadata": {
        "id": "9QFsOQ9ZGXUC"
      },
      "source": [
        "class ArquivoTexto(object):\n",
        "    # Metodo Magico de inicialização dos atributos\n",
        "    def __init__(self, arquivo: str):\n",
        "        self.arquivo = arquivo\n",
        "        self.conteudo = self.carregar_conteudo()\n",
        "\n",
        "    # Metodo para carregar o conteudo do arquivo  e armazená-lo na lista self.conteudo\n",
        "    def carregar_conteudo(self):\n",
        "        with open(self.arquivo, 'r') as file: # Abrindo o arquivo\n",
        "            return file.readlines()\n",
        "\n",
        "   # Metodo para extrair o conteúdo de uma linha específica\n",
        "    def extrair_linha(self, numero_linha: int):\n",
        "   # Verificando se o número da linha está dentro do intervalo válido\n",
        "        if 1 <= numero_linha <= len(self.conteudo):\n",
        "            return self.conteudo[numero_linha - 1]\n",
        "   # Se estiver fora do intervalo, retorna uma mensagem de erro\n",
        "        else:\n",
        "            return f\"Linha {numero_linha} fora do intervalo válido.\"\n",
        "\n",
        "#Fim codigo"
      ],
      "execution_count": null,
      "outputs": []
    },
    {
      "cell_type": "markdown",
      "metadata": {
        "id": "866OgsyHHw2M"
      },
      "source": [
        "Utilize o código abaixo para testar sua classe."
      ]
    },
    {
      "cell_type": "code",
      "metadata": {
        "id": "_HV_CE7CH8LO",
        "colab": {
          "base_uri": "https://localhost:8080/"
        },
        "outputId": "82cdd8b0-5281-4ca2-8aae-9be0279ee865"
      },
      "source": [
        "arquivo_texto = ArquivoTexto(arquivo='musica.txt')\n",
        "\n",
        "numero_linha = 1\n",
        "print(arquivo_texto.extrair_linha(numero_linha=numero_linha)) # Roda Viva\n",
        "\n",
        "numero_linha = 10\n",
        "print(arquivo_texto.extrair_linha(numero_linha=numero_linha)) # Mas eis que chega a roda viva"
      ],
      "execution_count": null,
      "outputs": [
        {
          "output_type": "stream",
          "name": "stdout",
          "text": [
            "Roda Viva\n",
            "\n",
            "Mas eis que chega a roda viva\n",
            "\n"
          ]
        }
      ]
    },
    {
      "cell_type": "markdown",
      "metadata": {
        "id": "zMN1Q3jdwoJm"
      },
      "source": [
        "---"
      ]
    },
    {
      "cell_type": "markdown",
      "metadata": {
        "id": "aQ8euzThIlLl"
      },
      "source": [
        "## 2\\. Classe para ler arquivos de csv"
      ]
    },
    {
      "cell_type": "markdown",
      "metadata": {
        "id": "EMWhvKAWIlL0"
      },
      "source": [
        "Crie a classe `ArquivoCSV`. Ela deve extender (herdar) a classe `ArquivoTexto` para reaproveitar os seus atributos (`self.arquivo` e `self.conteudo`) e método (`self.extrair_linha`). Além disso, adicione o seguinte atributo:\n",
        "\n",
        "*   `self.colunas`: Atributo do tipo `list` onde os elementos são os nome das colunas;\n",
        "\n",
        "A classe também deve conter o seguinte método:\n",
        "\n",
        "*   `self.extrair_coluna_da_linha`: Método que recebe como parâmetro o numero da linha e o indice da coluna e retorna o valor em questão."
      ]
    },
    {
      "cell_type": "code",
      "metadata": {
        "id": "2r3mfEyYIlL0"
      },
      "source": [
        "class ArquivoCSV(ArquivoTexto):\n",
        "    def __init__(self, arquivo: str):\n",
        "        # Chamando o construtor da classe pai (ArquivoTexto)\n",
        "        #para inicializar os atributos de arquivo e conteudo\n",
        "        super().__init__(arquivo)\n",
        "\n",
        "        # Inicializando o novo atributo colunas\n",
        "        self.colunas = self.extrair_colunas()\n",
        "\n",
        "    def extrair_colunas(self):\n",
        "        # Extraindo os nomes das colunas da primeira linha do arquivo\n",
        "        #(assumindo que a primeira linha contém os cabeçalhos)\n",
        "        if self.conteudo:\n",
        "            # Verifica se há conteúdo no arquivo\n",
        "            primeira_linha = self.conteudo[0].strip()  # Removendo espaços em branco\n",
        "            colunas = primeira_linha.split(',')  # Separadando as colunas por vírgulas\n",
        "            return colunas\n",
        "        else:\n",
        "            return []\n",
        "\n",
        "    def extrair_coluna_da_linha(self, numero_linha: int, numero_coluna: int):\n",
        "         # Extraindo o valor da coluna especificada para a linha especificada\n",
        "        if 1 <= numero_linha <= len(self.conteudo) and 0 <= numero_coluna < len(self.colunas):\n",
        "            # Verifica se o número da linha e da coluna estão dentro dos intervalos válidos\n",
        "            linha = self.conteudo[numero_linha - 1].strip()  # Removendo espaços em branco\n",
        "            valores = linha.split(',')\n",
        "            return valores[numero_coluna]\n",
        "        else:\n",
        "            # Retorna uma mensagem de erro se estiver fora do intervalo\n",
        "            return f\"Linha {numero_linha} ou Coluna {numero_coluna} fora do intervalo válido.\"\n",
        "\n",
        "#Fim codigo"
      ],
      "execution_count": null,
      "outputs": []
    },
    {
      "cell_type": "markdown",
      "metadata": {
        "id": "jQm_hBETIlL1"
      },
      "source": [
        "Utilize o código abaixo para testar sua classe."
      ]
    },
    {
      "cell_type": "code",
      "metadata": {
        "id": "GKSf1YbcIlL1",
        "colab": {
          "base_uri": "https://localhost:8080/"
        },
        "outputId": "07b9e50b-8c1c-49f9-b124-0fe5a943c289"
      },
      "source": [
        "arquivo_csv = ArquivoCSV(arquivo='carros.csv')\n",
        "\n",
        "numero_linha = 1\n",
        "print(arquivo_csv.extrair_linha(numero_linha=numero_linha)) # id,valor_venda,valor_manutencao,portas,pessoas,porta_malas\n",
        "\n",
        "print(arquivo_csv.colunas) # ['id', 'valor_venda', 'valor_manutencao', 'portas', 'pessoas', 'porta_malas']\n",
        "\n",
        "numero_linha = 10\n",
        "print(arquivo_csv.extrair_linha(numero_linha=numero_linha)) # 9,low,med,2,2,small\n",
        "\n",
        "numero_linha = 10\n",
        "numero_coluna = 2\n",
        "print(arquivo_csv.extrair_coluna_da_linha(numero_linha=numero_linha, numero_coluna=numero_coluna)) # low"
      ],
      "execution_count": null,
      "outputs": [
        {
          "output_type": "stream",
          "name": "stdout",
          "text": [
            "id,valor_venda,valor_manutencao,portas,pessoas,porta_malas\n",
            "\n",
            "['id', 'valor_venda', 'valor_manutencao', 'portas', 'pessoas', 'porta_malas']\n",
            "9,low,med,2,2,small\n",
            "\n",
            "med\n"
          ]
        }
      ]
    },
    {
      "cell_type": "markdown",
      "metadata": {
        "id": "78xH4bWUIlL2"
      },
      "source": [
        "---"
      ]
    }
  ]
}